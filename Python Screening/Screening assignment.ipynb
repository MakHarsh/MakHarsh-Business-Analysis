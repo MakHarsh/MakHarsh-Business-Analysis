{
 "cells": [
  {
   "cell_type": "markdown",
   "id": "78bab4d5",
   "metadata": {},
   "source": [
    "1. Create a function in python to read the text file and replace specific content\n",
    "of the file."
   ]
  },
  {
   "cell_type": "markdown",
   "id": "cc99590b",
   "metadata": {},
   "source": [
    "File name---                 example.txt\n",
    "Origin file content---       This is a placement assignment\n",
    "Replace string Placement---  should be replaced by screening\n",
    "Replaced file content---     This is a screening assignment"
   ]
  },
  {
   "cell_type": "code",
   "execution_count": 12,
   "id": "84fc6dc9",
   "metadata": {},
   "outputs": [],
   "source": [
    "def read_replace_file():\n",
    "   \n",
    "    with open(input('Enter the filename: '),'r') as file:\n",
    "        \n",
    "        filedata = file.read()\n",
    "    \n",
    "    filedata = filedata.replace(input('Input: '),input('New string: '))\n",
    "\n",
    "    with open(input('File Name: '),'w') as file:\n",
    "        file.write(filedata)"
   ]
  },
  {
   "cell_type": "code",
   "execution_count": 15,
   "id": "2f4cc230",
   "metadata": {},
   "outputs": [
    {
     "name": "stdout",
     "output_type": "stream",
     "text": [
      "Enter the filename: Example.txt\n",
      "Input: placement\n",
      "New string: screening\n",
      "File Name: Examplee\n"
     ]
    }
   ],
   "source": [
    "read_replace_file()"
   ]
  },
  {
   "cell_type": "markdown",
   "id": "ab3cb099",
   "metadata": {},
   "source": [
    "2. Demonstrate use of abstract class, multiple inheritance and decorator in\n",
    "python."
   ]
  },
  {
   "cell_type": "markdown",
   "id": "28887c48",
   "metadata": {},
   "source": [
    "### Abstract Class"
   ]
  },
  {
   "cell_type": "markdown",
   "id": "6dc54217",
   "metadata": {},
   "source": [
    "what is an Abstract Class?\n",
    "\n",
    "\n",
    "An abstract class can be considered as a blueprint for other classes. It allows you to create a set of methods that must be created within any child classes built from the abstract class. A class which contains one or more abstract methods is called an abstract class. An abstract method is a method that has a declaration but does not have an implementation. While we are designing large functional units we use an abstract class. When we want to provide a common interface for different implementations of a component, we use an abstract class. "
   ]
  },
  {
   "cell_type": "code",
   "execution_count": 8,
   "id": "75ea6ed0",
   "metadata": {},
   "outputs": [],
   "source": [
    "from abc import ABC, abstractmethod\n",
    "\n",
    "class test(ABC):\n",
    "    def __init__(self, name):\n",
    "        self.name = name\n",
    "    \n",
    "    @abstractmethod\n",
    "    def quality(self):\n",
    "        pass\n",
    "        "
   ]
  },
  {
   "cell_type": "code",
   "execution_count": 9,
   "id": "3a95364e",
   "metadata": {},
   "outputs": [
    {
     "data": {
      "text/plain": [
       "Harsh(name='Food', rating=5)"
      ]
     },
     "execution_count": 9,
     "metadata": {},
     "output_type": "execute_result"
    }
   ],
   "source": [
    "from collections import namedtuple\n",
    "\n",
    "amenities = namedtuple('Harsh',('name','rating'))\n",
    "\n",
    "class dining(test):\n",
    "    def quality(self):\n",
    "        return amenities('Food',5)\n",
    "    \n",
    "area = dining('Table')\n",
    "area.quality()"
   ]
  },
  {
   "cell_type": "markdown",
   "id": "15d28b9a",
   "metadata": {},
   "source": [
    "###  Multiple Inheritance"
   ]
  },
  {
   "cell_type": "markdown",
   "id": "b33d411e",
   "metadata": {},
   "source": [
    "Inheritance is the mechanism to achieve the re-usability of code as one class(child class) can derive the properties of another class(parent class). It also provides transitivity ie. if class C inherits from P then all the sub-classes of C would also inherit from P.\n",
    " \n",
    "\n",
    "Multiple Inheritance \n",
    "When a class is derived from more than one base class it is called multiple Inheritance. The derived class inherits all the features of the base case."
   ]
  },
  {
   "cell_type": "code",
   "execution_count": 4,
   "id": "e380286b",
   "metadata": {},
   "outputs": [
    {
     "name": "stdout",
     "output_type": "stream",
     "text": [
      "ML class\n",
      "dev class\n"
     ]
    }
   ],
   "source": [
    "class ML:\n",
    "    def a(self):\n",
    "        print('ML class')\n",
    "        \n",
    "class DL(ML):\n",
    "    def b(self):\n",
    "        print('DL class')\n",
    "        \n",
    "class NLP(ML):\n",
    "    def c(self):\n",
    "        print('dev class')\n",
    "        \n",
    "obj = NLP()\n",
    "obj.a()\n",
    "obj.c()"
   ]
  },
  {
   "cell_type": "markdown",
   "id": "fa5af698",
   "metadata": {},
   "source": [
    "### Decorator"
   ]
  },
  {
   "cell_type": "markdown",
   "id": "2513a49b",
   "metadata": {},
   "source": [
    "Decorators are a very powerful and useful tool in Python since it allows programmers to modify the behaviour of a function or class. Decorators allow us to wrap another function in order to extend the behaviour of the wrapped function, without permanently modifying it. But before diving deep into decorators let us understand some concepts that will come in handy in learning the decorators."
   ]
  },
  {
   "cell_type": "code",
   "execution_count": 5,
   "id": "98c6a67f",
   "metadata": {},
   "outputs": [
    {
     "name": "stdout",
     "output_type": "stream",
     "text": [
      "1st Inside Function\n",
      "Say Hello Function\n",
      "2nd Inside Function\n"
     ]
    }
   ],
   "source": [
    "def decorator(func):\n",
    "    def inside_function():\n",
    "        print(\"1st Inside Function\")\n",
    "        func()\n",
    "        print(\"2nd Inside Function\")\n",
    "  \n",
    "    return inside_function\n",
    "\n",
    "def say_hello():\n",
    "    print(\"Say Hello Function\")\n",
    "\n",
    "\n",
    "say_hello = decorator(say_hello)\n",
    "\n",
    "say_hello()"
   ]
  },
  {
   "cell_type": "code",
   "execution_count": null,
   "id": "0a6c2458",
   "metadata": {},
   "outputs": [],
   "source": []
  }
 ],
 "metadata": {
  "kernelspec": {
   "display_name": "Python 3",
   "language": "python",
   "name": "python3"
  },
  "language_info": {
   "codemirror_mode": {
    "name": "ipython",
    "version": 3
   },
   "file_extension": ".py",
   "mimetype": "text/x-python",
   "name": "python",
   "nbconvert_exporter": "python",
   "pygments_lexer": "ipython3",
   "version": "3.7.7"
  }
 },
 "nbformat": 4,
 "nbformat_minor": 5
}
